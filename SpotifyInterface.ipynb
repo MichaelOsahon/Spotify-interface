{
 "cells": [
  {
   "cell_type": "code",
   "execution_count": 1,
   "id": "d5f13709-81b4-4ab0-96dc-35eafbc715cf",
   "metadata": {},
   "outputs": [],
   "source": [
    "import spotipy\n",
    "from spotipy.oauth2 import SpotifyOAuth\n",
    "import spotipy.util as util\n",
    "import json\n",
    "import requests\n",
    "from datetime import datetime"
   ]
  },
  {
   "cell_type": "code",
   "execution_count": 2,
   "id": "e24e9f80-c1ef-434b-9f96-0deb4b07ce87",
   "metadata": {},
   "outputs": [],
   "source": [
    "scope=\"playlist-modify-public playlist-modify-private\""
   ]
  },
  {
   "cell_type": "code",
   "execution_count": 3,
   "id": "3689268c-35a2-4890-91b9-80a06bfdffb1",
   "metadata": {},
   "outputs": [],
   "source": [
    "credentials = \"spotify_keys.json\"\n",
    "with open(credentials, \"r\") as keys:\n",
    "    api_tokens = json.load(keys)"
   ]
  },
  {
   "cell_type": "code",
   "execution_count": 4,
   "id": "d8e82246-0367-405f-a628-ada4e38aac70",
   "metadata": {},
   "outputs": [],
   "source": [
    "client_id = api_tokens[\"client_id\"]\n",
    "client_secret = api_tokens[\"client_secret\"]\n",
    "redirectURI = api_tokens[\"redirect_uri\"]\n",
    "weather_api_key = api_tokens[\"weather_api_key\"]\n",
    "playlist_id = api_tokens[\"playlist_id\"]\n",
    "username = api_tokens[\"username\"]"
   ]
  },
  {
   "cell_type": "markdown",
   "id": "5a266456-bdff-4586-8480-12c8c02e6ab1",
   "metadata": {
    "jp-MarkdownHeadingCollapsed": true
   },
   "source": [
    "sp = spotipy.Spotify(auth_manager=SpotifyOAuth(\n",
    "    client_id=client_id,\n",
    "    client_secret=client_secret,\n",
    "    redirect_uri=redirect_uri,\n",
    "    scope=\"playlist-modify-public playlist-modify-private\"\n",
    "    ))"
   ]
  },
  {
   "cell_type": "code",
   "execution_count": 5,
   "id": "6c22e59b-d65b-48b5-af30-2adb99644357",
   "metadata": {},
   "outputs": [],
   "source": [
    "city = \"London\"  \n",
    "\n",
    "weather_url = f\"http://api.openweathermap.org/data/2.5/weather?q={city}&appid={weather_api_key}&units=metric\"\n",
    "weather_response = requests.get(weather_url)\n",
    "weather_data = weather_response.json()\n",
    "\n",
    "weather_condition = weather_data['weather'][0]['main'].lower()\n",
    "temperature = weather_data['main']['temp']"
   ]
  },
  {
   "cell_type": "code",
   "execution_count": 6,
   "id": "69c8f9d5-5c6c-4acb-909a-6c883668daea",
   "metadata": {},
   "outputs": [],
   "source": [
    "weather_music = {\n",
    "    'thunderstorm': ['rock', 'metal'],\n",
    "    'rain': ['jazz', 'lofi'],\n",
    "    'snow': ['classical', 'ambient'],\n",
    "    'clear': ['pop', 'dance'],\n",
    "    'clouds': ['indie', 'alternative'],\n",
    "    'mist': ['ambient', 'downtempo'],\n",
    "    'drizzle': ['jazz', 'lofi'],\n",
    "    'fog': ['ambient', 'classical']\n",
    "}"
   ]
  },
  {
   "cell_type": "code",
   "execution_count": 7,
   "id": "068a25e6-5eb9-48eb-b3b5-ae3db1ed08db",
   "metadata": {},
   "outputs": [],
   "source": [
    "if weather_condition in weather_music:\n",
    "    genres = weather_music[weather_condition]\n",
    "else:\n",
    "    genres = ['pop']  "
   ]
  },
  {
   "cell_type": "code",
   "execution_count": 8,
   "id": "65f75d4a-879a-4e98-b398-bccf6cad080e",
   "metadata": {},
   "outputs": [],
   "source": [
    "token = util.prompt_for_user_token(username, scope, client_id=client_id,\n",
    "                           client_secret=client_secret,\n",
    "                           redirect_uri=redirectURI)\n",
    "sp = spotipy.Spotify(auth=token)\n",
    "\n",
    "tracks = []\n",
    "for genre in genres:\n",
    "    results = sp.recommendations(\n",
    "        seed_genres=[genre],\n",
    "        limit=10\n",
    "    )\n",
    "    tracks.extend([track['uri'] for track in results['tracks']])"
   ]
  },
  {
   "cell_type": "code",
   "execution_count": 9,
   "id": "bd65ff77-62ac-46b3-afe0-6bbfc4cf35a5",
   "metadata": {
    "scrolled": true
   },
   "outputs": [
    {
     "name": "stdout",
     "output_type": "stream",
     "text": [
      "['spotify:track:6XwfbweA3ppZC6sI6GzC1G', 'spotify:track:65KWSO41BTzyBEthvaMqGS', 'spotify:track:7KsZHCfOitA5V9oQYVdltG', 'spotify:track:5EA06TsQmqmQXZiEhr1AaM', 'spotify:track:1p2TWJxUlHE5JR0sE6E1d7', 'spotify:track:71RPveF6c3dgG4tiljQw9K', 'spotify:track:48HT7Zzd3We4ZjG82lsbdK', 'spotify:track:6M3u70GWuRDLcyvpPJEgzk', 'spotify:track:5Q6Xzp25aXYxNJ4B6vBkcf', 'spotify:track:4yYvWFUWMaKMXtoJKJnmZk', 'spotify:track:1YI0uK36eupTmw9F8kHysr', 'spotify:track:3HPfwpfUtcdyJPvlLtXtNg', 'spotify:track:36tghkPg1AO4HsAzo6YpPp', 'spotify:track:3YuaBvuZqcwN3CEAyyoaei', 'spotify:track:77eRSoQbDt4qHlAhUqovmy', 'spotify:track:0W7AbEauB7cP4pidLclApe', 'spotify:track:1z7ipCbtUKz3Nepd2r39bc', 'spotify:track:1RwwmiVtLAtPmxAqKVfwgG', 'spotify:track:12qZHAeOyTf93YAWvGDTat', 'spotify:track:7C6NcqS3fNDXLgP5L2Kbgp']\n"
     ]
    }
   ],
   "source": [
    "print(tracks)"
   ]
  },
  {
   "cell_type": "code",
   "execution_count": 10,
   "id": "db0beaae-3a55-4175-bca0-f59e73d7a5f8",
   "metadata": {},
   "outputs": [],
   "source": [
    "tracks = list(set(tracks))[:20]\n",
    "\n",
    "sp.playlist_replace_items(playlist_id, tracks)\n",
    "\n",
    "playlist_info = f\"Weather-based playlist for {city}. Weather: {weather_condition}. Updated: {datetime.now().strftime('%Y-%m-%d %H:%M')}\"\n",
    "sp.playlist_change_details(playlist_id, description=playlist_info)"
   ]
  },
  {
   "cell_type": "code",
   "execution_count": 11,
   "id": "1a613cb4-8ff2-4d7c-b315-ad5364dde460",
   "metadata": {},
   "outputs": [
    {
     "name": "stdout",
     "output_type": "stream",
     "text": [
      "Weather Condition: clouds\n",
      "Selected Genres: ['indie', 'alternative']\n",
      "Number of tracks added: 20\n"
     ]
    }
   ],
   "source": [
    "print(f\"Weather Condition: {weather_condition}\")\n",
    "print(f\"Selected Genres: {genres}\")\n",
    "print(f\"Number of tracks added: {len(tracks)}\")"
   ]
  },
  {
   "cell_type": "code",
   "execution_count": 12,
   "id": "1af9fd32-7f9e-45a0-9466-b25522ce83c5",
   "metadata": {},
   "outputs": [
    {
     "name": "stdout",
     "output_type": "stream",
     "text": [
      "\n",
      "Added Tracks:\n",
      "1. Everything Now - Arcade Fire\n",
      "2. I Wanna Get Better - Bleachers\n",
      "3. House of Gold - Twenty One Pilots\n",
      "4. Like a Stone - Audioslave\n",
      "5. Sirens - Pearl Jam\n",
      "6. All The Small Things - blink-182\n",
      "7. Arms - The Paper Kites\n",
      "8. Best to You - Blood Orange\n",
      "9. Saw You In a Dream - The Japanese House\n",
      "10. Nice to Know You - Incubus\n",
      "11. Hunger Strike - Temple Of The Dog\n",
      "12. Shine - Benjamin Francis Leftwich\n",
      "13. Magician (Suture) - Milo\n",
      "14. Shuffle - Bombay Bicycle Club\n",
      "15. Coming Home - Leon Bridges\n",
      "16. Sunday Morning - Maroon 5\n",
      "17. Luna - 2011 Remaster - The Smashing Pumpkins\n",
      "18. Cherry - Chromatics\n",
      "19. Baby (Bonus Track) - Ariel Pink\n",
      "20. Just Like Heaven - The Cure\n"
     ]
    }
   ],
   "source": [
    "playlist_tracks = sp.playlist_tracks(playlist_id)\n",
    "print(\"\\nAdded Tracks:\")\n",
    "for idx, item in enumerate(playlist_tracks['items'], 1):\n",
    "    track = item['track']\n",
    "    print(f\"{idx}. {track['name']} - {track['artists'][0]['name']}\")"
   ]
  },
  {
   "cell_type": "code",
   "execution_count": 14,
   "id": "850545c6-a426-4be7-8152-0da6f0cb0570",
   "metadata": {},
   "outputs": [
    {
     "data": {
      "text/plain": [
       "True"
      ]
     },
     "execution_count": 14,
     "metadata": {},
     "output_type": "execute_result"
    }
   ],
   "source": [
    "import webbrowser\n",
    "# Opens a specific Spotify playlist\n",
    "webbrowser.open(f'https://open.spotify.com/playlist/{playlist_id}')\n"
   ]
  }
 ],
 "metadata": {
  "kernelspec": {
   "display_name": "Python 3 (ipykernel)",
   "language": "python",
   "name": "python3"
  },
  "language_info": {
   "codemirror_mode": {
    "name": "ipython",
    "version": 3
   },
   "file_extension": ".py",
   "mimetype": "text/x-python",
   "name": "python",
   "nbconvert_exporter": "python",
   "pygments_lexer": "ipython3",
   "version": "3.12.7"
  }
 },
 "nbformat": 4,
 "nbformat_minor": 5
}
