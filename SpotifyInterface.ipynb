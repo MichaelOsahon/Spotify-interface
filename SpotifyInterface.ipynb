{
 "cells": [
  {
   "cell_type": "code",
   "execution_count": 34,
   "id": "d5f13709-81b4-4ab0-96dc-35eafbc715cf",
   "metadata": {},
   "outputs": [],
   "source": [
    "import spotipy\n",
    "from spotipy.oauth2 import SpotifyOAuth\n",
    "import spotipy.util as util\n",
    "import json\n",
    "import requests\n",
    "from datetime import datetime"
   ]
  },
  {
   "cell_type": "code",
   "execution_count": 35,
   "id": "e24e9f80-c1ef-434b-9f96-0deb4b07ce87",
   "metadata": {},
   "outputs": [],
   "source": [
    "scope=\"playlist-modify-public playlist-modify-private\""
   ]
  },
  {
   "cell_type": "code",
   "execution_count": 36,
   "id": "3689268c-35a2-4890-91b9-80a06bfdffb1",
   "metadata": {},
   "outputs": [],
   "source": [
    "credentials = \"spotify_keys.json\"\n",
    "with open(credentials, \"r\") as keys:\n",
    "    api_tokens = json.load(keys)"
   ]
  },
  {
   "cell_type": "code",
   "execution_count": 37,
   "id": "d8e82246-0367-405f-a628-ada4e38aac70",
   "metadata": {},
   "outputs": [],
   "source": [
    "client_id = api_tokens[\"client_id\"]\n",
    "client_secret = api_tokens[\"client_secret\"]\n",
    "redirectURI = api_tokens[\"redirect_uri\"]\n",
    "weather_api_key = api_tokens[\"weather_api_key\"]\n",
    "playlist_id = api_tokens[\"playlist_id\"]\n",
    "username = api_tokens[\"username\"]"
   ]
  },
  {
   "cell_type": "markdown",
   "id": "5a266456-bdff-4586-8480-12c8c02e6ab1",
   "metadata": {
    "jp-MarkdownHeadingCollapsed": true
   },
   "source": [
    "sp = spotipy.Spotify(auth_manager=SpotifyOAuth(\n",
    "    client_id=client_id,\n",
    "    client_secret=client_secret,\n",
    "    redirect_uri=redirect_uri,\n",
    "    scope=\"playlist-modify-public playlist-modify-private\"\n",
    "    ))"
   ]
  },
  {
   "cell_type": "code",
   "execution_count": 38,
   "id": "6c22e59b-d65b-48b5-af30-2adb99644357",
   "metadata": {},
   "outputs": [],
   "source": [
    "city = \"London\"  \n",
    "\n",
    "weather_url = f\"http://api.openweathermap.org/data/2.5/weather?q={city}&appid={weather_api_key}&units=metric\"\n",
    "weather_response = requests.get(weather_url)\n",
    "weather_data = weather_response.json()\n",
    "\n",
    "weather_condition = weather_data['weather'][0]['main'].lower()\n",
    "temperature = weather_data['main']['temp']"
   ]
  },
  {
   "cell_type": "code",
   "execution_count": 39,
   "id": "69c8f9d5-5c6c-4acb-909a-6c883668daea",
   "metadata": {},
   "outputs": [],
   "source": [
    "weather_music = {\n",
    "    'thunderstorm': ['rock', 'metal'],\n",
    "    'rain': ['jazz', 'lofi'],\n",
    "    'snow': ['classical', 'ambient'],\n",
    "    'clear': ['pop', 'dance'],\n",
    "    'clouds': ['indie', 'alternative'],\n",
    "    'mist': ['ambient', 'downtempo'],\n",
    "    'drizzle': ['jazz', 'lofi'],\n",
    "    'fog': ['ambient', 'classical']\n",
    "}"
   ]
  },
  {
   "cell_type": "code",
   "execution_count": 40,
   "id": "068a25e6-5eb9-48eb-b3b5-ae3db1ed08db",
   "metadata": {},
   "outputs": [],
   "source": [
    "if weather_condition in weather_music:\n",
    "    genres = weather_music[weather_condition]\n",
    "else:\n",
    "    genres = ['pop']  "
   ]
  },
  {
   "cell_type": "code",
   "execution_count": 42,
   "id": "65f75d4a-879a-4e98-b398-bccf6cad080e",
   "metadata": {},
   "outputs": [],
   "source": [
    "token = util.prompt_for_user_token(username, scope, client_id=client_id,\n",
    "                           client_secret=client_secret,\n",
    "                           redirect_uri=redirectURI)\n",
    "sp = spotipy.Spotify(auth=token)\n",
    "\n",
    "tracks = []\n",
    "for genre in genres:\n",
    "    results = sp.recommendations(\n",
    "        seed_genres=[genre],\n",
    "        limit=10\n",
    "    )\n",
    "    tracks.extend([track['uri'] for track in results['tracks']])"
   ]
  },
  {
   "cell_type": "code",
   "execution_count": 43,
   "id": "bd65ff77-62ac-46b3-afe0-6bbfc4cf35a5",
   "metadata": {},
   "outputs": [
    {
     "name": "stdout",
     "output_type": "stream",
     "text": [
      "['spotify:track:1iepnn71MidOJZ7Y3vfgE4', 'spotify:track:12pdXFcruNcPUbZypKUDgz', 'spotify:track:2HnMhvOVA1FK8C61nMhJEj', 'spotify:track:3EytfC22ikoXM921cJbejn', 'spotify:track:0EKT63mcvEXuB5rxCW9pzP', 'spotify:track:2UWdUez9MB9yzL7Y81Mcip', 'spotify:track:3CAX47TnPqTujLIQTw8nwI', 'spotify:track:0ARp9mXXpPflIwehy25kCa', 'spotify:track:2PtBhfoPZ6VYtXkrE5FrCH', 'spotify:track:0idjTHGhGRBdWTmsalq3tF', 'spotify:track:5SrnKN9CdGLLHIOUQMHNod', 'spotify:track:2keKJ9KWoGpucAqZ9W4CFi', 'spotify:track:1JdKrFyoU05abww0Zv0ayQ', 'spotify:track:2sCoROOlNQyFpRQEe6A5lv', 'spotify:track:2zrIyIdqafYozfsgiMY0Ae', 'spotify:track:1e5grnGb7YIcX9EuJM1mtB', 'spotify:track:2xwedMsRwKEtLos3oN5pt9', 'spotify:track:0ucps9UAU7I7MmTbnk2YaK', 'spotify:track:1ehPiY9lYnZAA9ogCnBf9G', 'spotify:track:1tT1tIZAINzFZyjoPKtg7C']\n"
     ]
    }
   ],
   "source": [
    "print(tracks)"
   ]
  },
  {
   "cell_type": "code",
   "execution_count": 44,
   "id": "db0beaae-3a55-4175-bca0-f59e73d7a5f8",
   "metadata": {},
   "outputs": [],
   "source": [
    "tracks = list(set(tracks))[:20]\n",
    "\n",
    "sp.playlist_replace_items(playlist_id, tracks)\n",
    "\n",
    "playlist_info = f\"Weather-based playlist for {city}. Weather: {weather_condition}. Updated: {datetime.now().strftime('%Y-%m-%d %H:%M')}\"\n",
    "sp.playlist_change_details(playlist_id, description=playlist_info)"
   ]
  },
  {
   "cell_type": "code",
   "execution_count": 45,
   "id": "1a613cb4-8ff2-4d7c-b315-ad5364dde460",
   "metadata": {},
   "outputs": [
    {
     "name": "stdout",
     "output_type": "stream",
     "text": [
      "Weather Condition: clouds\n",
      "Selected Genres: ['indie', 'alternative']\n",
      "Number of tracks added: 20\n"
     ]
    }
   ],
   "source": [
    "print(f\"Weather Condition: {weather_condition}\")\n",
    "print(f\"Selected Genres: {genres}\")\n",
    "print(f\"Number of tracks added: {len(tracks)}\")"
   ]
  },
  {
   "cell_type": "code",
   "execution_count": 47,
   "id": "1af9fd32-7f9e-45a0-9466-b25522ce83c5",
   "metadata": {},
   "outputs": [
    {
     "name": "stdout",
     "output_type": "stream",
     "text": [
      "\n",
      "Added Tracks:\n",
      "1. Call Your Girlfriend - Robyn\n",
      "2. Vasoline - Stone Temple Pilots\n",
      "3. Supermassive Black Hole - Muse\n",
      "4. That's What You Get - Paramore\n",
      "5. Super Natural - Turnover\n",
      "6. The Gold - Manchester Orchestra\n",
      "7. Higher - Creed\n",
      "8. People Change - Mipso\n",
      "9. Radio - Sylvan Esso\n",
      "10. The Suburbs - Arcade Fire\n",
      "11. Ash Tree Lane - MS MR\n",
      "12. Reflections - MisterWives\n",
      "13. Caring Is Creepy - The Shins\n",
      "14. Big Sis - SALES\n",
      "15. Dammit - blink-182\n",
      "16. Love Is Mystical - Cold War Kids\n",
      "17. Old Pine - Ben Howard\n",
      "18. Sleepwalker - Moon Duo\n",
      "19. Blue Cassette - Friendly Fires\n",
      "20. Reunion - M83\n"
     ]
    }
   ],
   "source": [
    "playlist_tracks = sp.playlist_tracks(playlist_id)\n",
    "print(\"\\nAdded Tracks:\")\n",
    "for idx, item in enumerate(playlist_tracks['items'], 1):\n",
    "    track = item['track']\n",
    "    print(f\"{idx}. {track['name']} - {track['artists'][0]['name']}\")"
   ]
  },
  {
   "cell_type": "code",
   "execution_count": null,
   "id": "850545c6-a426-4be7-8152-0da6f0cb0570",
   "metadata": {},
   "outputs": [],
   "source": []
  }
 ],
 "metadata": {
  "kernelspec": {
   "display_name": "Python 3 (ipykernel)",
   "language": "python",
   "name": "python3"
  },
  "language_info": {
   "codemirror_mode": {
    "name": "ipython",
    "version": 3
   },
   "file_extension": ".py",
   "mimetype": "text/x-python",
   "name": "python",
   "nbconvert_exporter": "python",
   "pygments_lexer": "ipython3",
   "version": "3.12.7"
  }
 },
 "nbformat": 4,
 "nbformat_minor": 5
}
